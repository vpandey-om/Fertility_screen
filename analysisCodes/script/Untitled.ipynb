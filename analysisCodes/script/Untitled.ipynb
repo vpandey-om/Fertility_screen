{
 "cells": [
  {
   "cell_type": "code",
   "execution_count": 2,
   "id": "handed-world",
   "metadata": {},
   "outputs": [],
   "source": [
    "from goatools import obo_parser"
   ]
  },
  {
   "cell_type": "code",
   "execution_count": 3,
   "id": "ceramic-jerusalem",
   "metadata": {},
   "outputs": [],
   "source": [
    "import wget\n",
    "import os"
   ]
  },
  {
   "cell_type": "code",
   "execution_count": 4,
   "id": "empty-lesbian",
   "metadata": {},
   "outputs": [],
   "source": [
    "go_obo_url = 'http://purl.obolibrary.org/obo/go/go-basic.obo'\n",
    "data_folder = os.getcwd() + '/data'\n",
    "\n",
    "# Check if we have the ./data directory already\n",
    "if(not os.path.isfile(data_folder)):\n",
    "    # Emulate mkdir -p (no error if folder exists)\n",
    "    try:\n",
    "        os.mkdir(data_folder)\n",
    "    except OSError as e:\n",
    "        if(e.errno != 17):\n",
    "            raise e\n",
    "else:\n",
    "    raise Exception('Data path (' + data_folder + ') exists as a file. '\n",
    "                   'Please rename, remove or change the desired location of the data path.')\n",
    "\n",
    "# Check if the file exists already\n",
    "if(not os.path.isfile(data_folder+'/go-basic.obo')):\n",
    "    go_obo = wget.download(go_obo_url, data_folder+'/go-basic.obo')\n",
    "else:\n",
    "    go_obo = data_folder+'/go-basic.obo'"
   ]
  },
  {
   "cell_type": "code",
   "execution_count": 5,
   "id": "romantic-productivity",
   "metadata": {},
   "outputs": [
    {
     "name": "stdout",
     "output_type": "stream",
     "text": [
      "/Users/vpandey/projects/githubs/Fertility_screen/analysisCodes/script/data/go-basic.obo\n"
     ]
    }
   ],
   "source": [
    "print(go_obo)"
   ]
  },
  {
   "cell_type": "code",
   "execution_count": 6,
   "id": "interior-pregnancy",
   "metadata": {},
   "outputs": [
    {
     "name": "stdout",
     "output_type": "stream",
     "text": [
      "/Users/vpandey/projects/githubs/Fertility_screen/analysisCodes/script/data/go-basic.obo: fmt(1.2) rel(2021-05-01) 47,284 GO Terms\n"
     ]
    }
   ],
   "source": [
    "go = obo_parser.GODag(go_obo)"
   ]
  },
  {
   "cell_type": "code",
   "execution_count": 7,
   "id": "creative-symbol",
   "metadata": {},
   "outputs": [],
   "source": [
    "import Bio.UniProt.GOA as GOA\n",
    "from ftplib import FTP\n",
    "arab_uri = '/pub/databases/GO/goa/ARABIDOPSIS/goa_arabidopsis.gaf.gz'\n",
    "arab_fn = arab_uri.split('/')[-1]\n",
    "\n",
    "# Check if the file exists already\n",
    "arab_gaf = os.path.join(data_folder, arab_fn)\n",
    "if(not os.path.isfile(arab_gaf)):\n",
    "    # Login to FTP server\n",
    "    ebi_ftp = FTP('ftp.ebi.ac.uk')\n",
    "    ebi_ftp.login() # Logs in anonymously\n",
    "    \n",
    "    # Download\n",
    "    with open(arab_gaf,'wb') as arab_fp:\n",
    "        ebi_ftp.retrbinary('RETR {}'.format(arab_uri), arab_fp.write)\n",
    "        \n",
    "    # Logout from FTP server\n",
    "    ebi_ftp.quit()"
   ]
  },
  {
   "cell_type": "code",
   "execution_count": 8,
   "id": "subsequent-worcester",
   "metadata": {},
   "outputs": [
    {
     "ename": "ValueError",
     "evalue": "Unknown GAF version !gaf-version: 2.2\n\n",
     "output_type": "error",
     "traceback": [
      "\u001b[0;31m---------------------------------------------------------------------------\u001b[0m",
      "\u001b[0;31mValueError\u001b[0m                                Traceback (most recent call last)",
      "\u001b[0;32m<ipython-input-8-38330aafc6b6>\u001b[0m in \u001b[0;36m<module>\u001b[0;34m\u001b[0m\n\u001b[1;32m      6\u001b[0m \u001b[0;34m\u001b[0m\u001b[0m\n\u001b[1;32m      7\u001b[0m     \u001b[0;31m# Iterate on each function using Bio.UniProt.GOA library.\u001b[0m\u001b[0;34m\u001b[0m\u001b[0;34m\u001b[0m\u001b[0;34m\u001b[0m\u001b[0m\n\u001b[0;32m----> 8\u001b[0;31m     \u001b[0;32mfor\u001b[0m \u001b[0mentry\u001b[0m \u001b[0;32min\u001b[0m \u001b[0mGOA\u001b[0m\u001b[0;34m.\u001b[0m\u001b[0mgafiterator\u001b[0m\u001b[0;34m(\u001b[0m\u001b[0marab_gaf_fp\u001b[0m\u001b[0;34m)\u001b[0m\u001b[0;34m:\u001b[0m\u001b[0;34m\u001b[0m\u001b[0;34m\u001b[0m\u001b[0m\n\u001b[0m\u001b[1;32m      9\u001b[0m         \u001b[0muniprot_id\u001b[0m \u001b[0;34m=\u001b[0m \u001b[0mentry\u001b[0m\u001b[0;34m.\u001b[0m\u001b[0mpop\u001b[0m\u001b[0;34m(\u001b[0m\u001b[0;34m'DB_Object_ID'\u001b[0m\u001b[0;34m)\u001b[0m\u001b[0;34m\u001b[0m\u001b[0;34m\u001b[0m\u001b[0m\n\u001b[1;32m     10\u001b[0m         \u001b[0marab_funcs\u001b[0m\u001b[0;34m[\u001b[0m\u001b[0muniprot_id\u001b[0m\u001b[0;34m]\u001b[0m \u001b[0;34m=\u001b[0m \u001b[0mentry\u001b[0m\u001b[0;34m\u001b[0m\u001b[0;34m\u001b[0m\u001b[0m\n",
      "\u001b[0;32m~/opt/miniconda3/lib/python3.8/site-packages/Bio/UniProt/GOA.py\u001b[0m in \u001b[0;36mgafiterator\u001b[0;34m(handle)\u001b[0m\n\u001b[1;32m    400\u001b[0m         \u001b[0;32mreturn\u001b[0m \u001b[0m_gaf10iterator\u001b[0m\u001b[0;34m(\u001b[0m\u001b[0mhandle\u001b[0m\u001b[0;34m)\u001b[0m\u001b[0;34m\u001b[0m\u001b[0;34m\u001b[0m\u001b[0m\n\u001b[1;32m    401\u001b[0m     \u001b[0;32melse\u001b[0m\u001b[0;34m:\u001b[0m\u001b[0;34m\u001b[0m\u001b[0;34m\u001b[0m\u001b[0m\n\u001b[0;32m--> 402\u001b[0;31m         \u001b[0;32mraise\u001b[0m \u001b[0mValueError\u001b[0m\u001b[0;34m(\u001b[0m\u001b[0;34mf\"Unknown GAF version {inline}\\n\"\u001b[0m\u001b[0;34m)\u001b[0m\u001b[0;34m\u001b[0m\u001b[0;34m\u001b[0m\u001b[0m\n\u001b[0m\u001b[1;32m    403\u001b[0m \u001b[0;34m\u001b[0m\u001b[0m\n\u001b[1;32m    404\u001b[0m \u001b[0;34m\u001b[0m\u001b[0m\n",
      "\u001b[0;31mValueError\u001b[0m: Unknown GAF version !gaf-version: 2.2\n\n"
     ]
    }
   ],
   "source": [
    "import gzip\n",
    "\n",
    "# File is a gunzip file, so we need to open it in this way\n",
    "with gzip.open(arab_gaf, 'rt') as arab_gaf_fp:\n",
    "    arab_funcs = {}  # Initialise the dictionary of functions\n",
    "    \n",
    "    # Iterate on each function using Bio.UniProt.GOA library.\n",
    "    for entry in GOA.gafiterator(arab_gaf_fp):\n",
    "        uniprot_id = entry.pop('DB_Object_ID')\n",
    "        arab_funcs[uniprot_id] = entry"
   ]
  },
  {
   "cell_type": "code",
   "execution_count": 9,
   "id": "attractive-april",
   "metadata": {},
   "outputs": [
    {
     "ename": "ValueError",
     "evalue": "I/O operation on closed file.",
     "output_type": "error",
     "traceback": [
      "\u001b[0;31m---------------------------------------------------------------------------\u001b[0m",
      "\u001b[0;31mValueError\u001b[0m                                Traceback (most recent call last)",
      "\u001b[0;32m<ipython-input-9-de5c50527734>\u001b[0m in \u001b[0;36m<module>\u001b[0;34m\u001b[0m\n\u001b[0;32m----> 1\u001b[0;31m \u001b[0mGOA\u001b[0m\u001b[0;34m.\u001b[0m\u001b[0mgafiterator\u001b[0m\u001b[0;34m(\u001b[0m\u001b[0marab_gaf_fp\u001b[0m\u001b[0;34m)\u001b[0m\u001b[0;34m\u001b[0m\u001b[0;34m\u001b[0m\u001b[0m\n\u001b[0m",
      "\u001b[0;32m~/opt/miniconda3/lib/python3.8/site-packages/Bio/UniProt/GOA.py\u001b[0m in \u001b[0;36mgafiterator\u001b[0;34m(handle)\u001b[0m\n\u001b[1;32m    388\u001b[0m \u001b[0;34m\u001b[0m\u001b[0m\n\u001b[1;32m    389\u001b[0m     \"\"\"\n\u001b[0;32m--> 390\u001b[0;31m     \u001b[0minline\u001b[0m \u001b[0;34m=\u001b[0m \u001b[0mhandle\u001b[0m\u001b[0;34m.\u001b[0m\u001b[0mreadline\u001b[0m\u001b[0;34m(\u001b[0m\u001b[0;34m)\u001b[0m\u001b[0;34m\u001b[0m\u001b[0;34m\u001b[0m\u001b[0m\n\u001b[0m\u001b[1;32m    391\u001b[0m     \u001b[0;32mif\u001b[0m \u001b[0minline\u001b[0m\u001b[0;34m.\u001b[0m\u001b[0mstrip\u001b[0m\u001b[0;34m(\u001b[0m\u001b[0;34m)\u001b[0m \u001b[0;34m==\u001b[0m \u001b[0;34m\"!gaf-version: 2.0\"\u001b[0m\u001b[0;34m:\u001b[0m\u001b[0;34m\u001b[0m\u001b[0;34m\u001b[0m\u001b[0m\n\u001b[1;32m    392\u001b[0m         \u001b[0;31m# sys.stderr.write(\"gaf 2.0\\n\")\u001b[0m\u001b[0;34m\u001b[0m\u001b[0;34m\u001b[0m\u001b[0;34m\u001b[0m\u001b[0m\n",
      "\u001b[0;31mValueError\u001b[0m: I/O operation on closed file."
     ]
    }
   ],
   "source": [
    "GOA.gafiterator(arab_gaf_fp)"
   ]
  },
  {
   "cell_type": "code",
   "execution_count": null,
   "id": "funny-lawrence",
   "metadata": {},
   "outputs": [],
   "source": []
  }
 ],
 "metadata": {
  "kernelspec": {
   "display_name": "Python 3",
   "language": "python",
   "name": "python3"
  },
  "language_info": {
   "codemirror_mode": {
    "name": "ipython",
    "version": 3
   },
   "file_extension": ".py",
   "mimetype": "text/x-python",
   "name": "python",
   "nbconvert_exporter": "python",
   "pygments_lexer": "ipython3",
   "version": "3.8.5"
  }
 },
 "nbformat": 4,
 "nbformat_minor": 5
}
